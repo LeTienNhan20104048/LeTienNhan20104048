{
  "nbformat": 4,
  "nbformat_minor": 0,
  "metadata": {
    "colab": {
      "provenance": [],
      "authorship_tag": "ABX9TyOm801/eW8YEhVYmbgH/ev2",
      "include_colab_link": true
    },
    "kernelspec": {
      "name": "python3",
      "display_name": "Python 3"
    },
    "language_info": {
      "name": "python"
    }
  },
  "cells": [
    {
      "cell_type": "markdown",
      "metadata": {
        "id": "view-in-github",
        "colab_type": "text"
      },
      "source": [
        "<a href=\"https://colab.research.google.com/github/LeTienNhan20104048/LeTienNhan20104048/blob/main/Tuan10.ipynb\" target=\"_parent\"><img src=\"https://colab.research.google.com/assets/colab-badge.svg\" alt=\"Open In Colab\"/></a>"
      ]
    },
    {
      "cell_type": "code",
      "execution_count": 83,
      "metadata": {
        "id": "NCIzLsaV7AI6"
      },
      "outputs": [],
      "source": [
        "from keras.datasets import mnist\n",
        "from keras.utils import to_categorical"
      ]
    },
    {
      "cell_type": "code",
      "source": [
        "(x_train,y_train),(x_test,y_test) = mnist.load_data()"
      ],
      "metadata": {
        "id": "4Vf3JoqASMqt"
      },
      "execution_count": 84,
      "outputs": []
    },
    {
      "cell_type": "code",
      "source": [
        "x_train.shape"
      ],
      "metadata": {
        "colab": {
          "base_uri": "https://localhost:8080/"
        },
        "id": "pWfAh5gyP4Dy",
        "outputId": "18811c7f-d484-412e-960a-3ec7fa3db85c"
      },
      "execution_count": 87,
      "outputs": [
        {
          "output_type": "execute_result",
          "data": {
            "text/plain": [
              "(60000, 28, 28)"
            ]
          },
          "metadata": {},
          "execution_count": 87
        }
      ]
    },
    {
      "cell_type": "code",
      "source": [
        "y_train.shape"
      ],
      "metadata": {
        "colab": {
          "base_uri": "https://localhost:8080/"
        },
        "id": "gziRVDKxGK3W",
        "outputId": "90274503-7489-4f99-eab8-ca089bb1abeb"
      },
      "execution_count": 88,
      "outputs": [
        {
          "output_type": "execute_result",
          "data": {
            "text/plain": [
              "(60000,)"
            ]
          },
          "metadata": {},
          "execution_count": 88
        }
      ]
    },
    {
      "cell_type": "code",
      "source": [
        "x_test.shape"
      ],
      "metadata": {
        "colab": {
          "base_uri": "https://localhost:8080/"
        },
        "id": "rJrTYQ8UGN7b",
        "outputId": "403c60a7-4e6e-4ed1-beb2-f259f79c46a3"
      },
      "execution_count": 89,
      "outputs": [
        {
          "output_type": "execute_result",
          "data": {
            "text/plain": [
              "(10000, 28, 28)"
            ]
          },
          "metadata": {},
          "execution_count": 89
        }
      ]
    },
    {
      "cell_type": "code",
      "source": [
        "y_test.shape"
      ],
      "metadata": {
        "colab": {
          "base_uri": "https://localhost:8080/"
        },
        "id": "UV55ZqQQGRiR",
        "outputId": "dab0440d-6de0-4bc3-e72a-86d0f59733ae"
      },
      "execution_count": 90,
      "outputs": [
        {
          "output_type": "execute_result",
          "data": {
            "text/plain": [
              "(10000,)"
            ]
          },
          "metadata": {},
          "execution_count": 90
        }
      ]
    },
    {
      "cell_type": "code",
      "source": [
        "from keras.layers.serialization import activation\n",
        "from keras import models\n",
        "from keras import layers\n",
        "from keras.utils import to_categorical\n",
        "from keras.models import Sequential,Model\n",
        "from keras.layers import Dense,Dropout,Flatten,Input\n",
        "from keras.layers import Conv2D,MaxPooling2D"
      ],
      "metadata": {
        "id": "4DdGhCMcH4up"
      },
      "execution_count": 91,
      "outputs": []
    },
    {
      "cell_type": "code",
      "source": [
        "y_train = to_categorical(y_train)\n",
        "y_test = to_categorical(y_test)"
      ],
      "metadata": {
        "id": "nP-T248fQJUW"
      },
      "execution_count": 92,
      "outputs": []
    },
    {
      "cell_type": "code",
      "source": [
        "from keras.layers.convolutional.conv2d_transpose import Conv2D\n",
        "model = Sequential()\n",
        "model.add(Conv2D(32,kernel_size=(3,3),activation='relu',input_shape=(28,28,1),padding='same'))"
      ],
      "metadata": {
        "id": "nqNgXDvpTRIx"
      },
      "execution_count": 93,
      "outputs": []
    },
    {
      "cell_type": "code",
      "source": [
        "model.add(MaxPooling2D((2,2),padding='same'))"
      ],
      "metadata": {
        "id": "GQpZDp4oTXby"
      },
      "execution_count": 94,
      "outputs": []
    },
    {
      "cell_type": "code",
      "source": [
        "model.add(Conv2D(64,kernel_size=(3,3),activation='relu',padding='same'))"
      ],
      "metadata": {
        "id": "xq0QDPTSLxve"
      },
      "execution_count": 95,
      "outputs": []
    },
    {
      "cell_type": "code",
      "source": [
        "model.add(MaxPooling2D((2,2),padding='same'))"
      ],
      "metadata": {
        "id": "5bB5x2-cTgFy"
      },
      "execution_count": 96,
      "outputs": []
    },
    {
      "cell_type": "code",
      "source": [
        "model.add(Flatten())"
      ],
      "metadata": {
        "id": "fiCLMykwTjkP"
      },
      "execution_count": 97,
      "outputs": []
    },
    {
      "cell_type": "code",
      "source": [
        "model.add(Dense(128,activation='relu'))"
      ],
      "metadata": {
        "id": "x1-WdWS8ToL8"
      },
      "execution_count": 98,
      "outputs": []
    },
    {
      "cell_type": "code",
      "source": [
        "model.add(Dense(10,activation='softmax'))"
      ],
      "metadata": {
        "id": "uEEmsbYpTtTD"
      },
      "execution_count": 99,
      "outputs": []
    },
    {
      "cell_type": "code",
      "source": [
        "model.summary()"
      ],
      "metadata": {
        "colab": {
          "base_uri": "https://localhost:8080/"
        },
        "id": "Vs3U6PLKTwgV",
        "outputId": "6bf953d0-0fdd-49f1-999f-baa7846ffc13"
      },
      "execution_count": 100,
      "outputs": [
        {
          "output_type": "stream",
          "name": "stdout",
          "text": [
            "Model: \"sequential_9\"\n",
            "_________________________________________________________________\n",
            " Layer (type)                Output Shape              Param #   \n",
            "=================================================================\n",
            " conv2d_27 (Conv2D)          (None, 28, 28, 32)        320       \n",
            "                                                                 \n",
            " max_pooling2d_18 (MaxPoolin  (None, 14, 14, 32)       0         \n",
            " g2D)                                                            \n",
            "                                                                 \n",
            " conv2d_28 (Conv2D)          (None, 14, 14, 64)        18496     \n",
            "                                                                 \n",
            " max_pooling2d_19 (MaxPoolin  (None, 7, 7, 64)         0         \n",
            " g2D)                                                            \n",
            "                                                                 \n",
            " flatten_9 (Flatten)         (None, 3136)              0         \n",
            "                                                                 \n",
            " dense_18 (Dense)            (None, 128)               401536    \n",
            "                                                                 \n",
            " dense_19 (Dense)            (None, 10)                1290      \n",
            "                                                                 \n",
            "=================================================================\n",
            "Total params: 421,642\n",
            "Trainable params: 421,642\n",
            "Non-trainable params: 0\n",
            "_________________________________________________________________\n"
          ]
        }
      ]
    },
    {
      "cell_type": "code",
      "source": [
        "model.compile(optimizer='adam',loss='categorical_crossentropy' , metrics= 'accuracy' )\n",
        "history=model.fit(x_train,y_train,epochs=20,batch_size=128,verbose=2)"
      ],
      "metadata": {
        "colab": {
          "base_uri": "https://localhost:8080/"
        },
        "id": "AwGoKbrhTxOx",
        "outputId": "4c1def1d-16bb-449b-b1c9-e5d04cf45b10"
      },
      "execution_count": 101,
      "outputs": [
        {
          "output_type": "stream",
          "name": "stdout",
          "text": [
            "Epoch 1/20\n",
            "469/469 - 40s - loss: 0.7490 - accuracy: 0.9319 - 40s/epoch - 85ms/step\n",
            "Epoch 2/20\n",
            "469/469 - 40s - loss: 0.0589 - accuracy: 0.9817 - 40s/epoch - 85ms/step\n",
            "Epoch 3/20\n",
            "469/469 - 39s - loss: 0.0407 - accuracy: 0.9872 - 39s/epoch - 83ms/step\n",
            "Epoch 4/20\n",
            "469/469 - 39s - loss: 0.0321 - accuracy: 0.9897 - 39s/epoch - 83ms/step\n",
            "Epoch 5/20\n",
            "469/469 - 39s - loss: 0.0259 - accuracy: 0.9920 - 39s/epoch - 83ms/step\n",
            "Epoch 6/20\n",
            "469/469 - 39s - loss: 0.0203 - accuracy: 0.9935 - 39s/epoch - 83ms/step\n",
            "Epoch 7/20\n",
            "469/469 - 39s - loss: 0.0191 - accuracy: 0.9937 - 39s/epoch - 83ms/step\n",
            "Epoch 8/20\n",
            "469/469 - 40s - loss: 0.0176 - accuracy: 0.9941 - 40s/epoch - 85ms/step\n",
            "Epoch 9/20\n",
            "469/469 - 39s - loss: 0.0168 - accuracy: 0.9942 - 39s/epoch - 83ms/step\n",
            "Epoch 10/20\n",
            "469/469 - 39s - loss: 0.0186 - accuracy: 0.9937 - 39s/epoch - 83ms/step\n",
            "Epoch 11/20\n",
            "469/469 - 39s - loss: 0.0158 - accuracy: 0.9952 - 39s/epoch - 83ms/step\n",
            "Epoch 12/20\n",
            "469/469 - 39s - loss: 0.0140 - accuracy: 0.9954 - 39s/epoch - 83ms/step\n",
            "Epoch 13/20\n",
            "469/469 - 40s - loss: 0.0130 - accuracy: 0.9955 - 40s/epoch - 84ms/step\n",
            "Epoch 14/20\n",
            "469/469 - 39s - loss: 0.0125 - accuracy: 0.9960 - 39s/epoch - 83ms/step\n",
            "Epoch 15/20\n",
            "469/469 - 39s - loss: 0.0167 - accuracy: 0.9947 - 39s/epoch - 83ms/step\n",
            "Epoch 16/20\n",
            "469/469 - 39s - loss: 0.0094 - accuracy: 0.9969 - 39s/epoch - 83ms/step\n",
            "Epoch 17/20\n",
            "469/469 - 40s - loss: 0.0134 - accuracy: 0.9963 - 40s/epoch - 85ms/step\n",
            "Epoch 18/20\n",
            "469/469 - 40s - loss: 0.0108 - accuracy: 0.9968 - 40s/epoch - 86ms/step\n",
            "Epoch 19/20\n",
            "469/469 - 40s - loss: 0.0111 - accuracy: 0.9965 - 40s/epoch - 85ms/step\n",
            "Epoch 20/20\n",
            "469/469 - 40s - loss: 0.0067 - accuracy: 0.9978 - 40s/epoch - 84ms/step\n"
          ]
        }
      ]
    },
    {
      "cell_type": "code",
      "source": [
        "test_loss,test_acc=model.evaluate(x_test,y_test)\n",
        "print('Test accuracy:',test_acc)"
      ],
      "metadata": {
        "colab": {
          "base_uri": "https://localhost:8080/"
        },
        "id": "8dF5BZbGVXIV",
        "outputId": "bc0949cd-143b-4e9e-c1c6-c45889f76220"
      },
      "execution_count": 102,
      "outputs": [
        {
          "output_type": "stream",
          "name": "stdout",
          "text": [
            "313/313 [==============================] - 3s 8ms/step - loss: 0.0762 - accuracy: 0.9869\n",
            "Test accuracy: 0.9868999719619751\n"
          ]
        }
      ]
    },
    {
      "cell_type": "code",
      "source": [
        "from keras.utils import load_img\n",
        "from keras.utils import img_to_array,load_img\n",
        "import matplotlib.pyplot as plt\n",
        "import numpy as np\n",
        "from keras.models import load_model\n",
        "img = load_img('/content/2.png',target_size=(28,28))\n",
        "plt.imshow(img)\n",
        "img = img_to_array(img)\n",
        "img = img[:,:,0]\n",
        "img = img.astype('float32')\n",
        "img = img.reshape(1,28,28,1)\n",
        "img = img/255\n",
        "class_number=['1','2','3','4','5','6','7','8','9','0']\n",
        "a= int(np.argmax(model.predict(img),axis=1))\n",
        "print(\"Day la so:\", class_number[a])"
      ],
      "metadata": {
        "colab": {
          "base_uri": "https://localhost:8080/",
          "height": 300
        },
        "id": "E4Ism8WnWvwp",
        "outputId": "4ac8db83-92b6-4318-8426-2b61cac86ee8"
      },
      "execution_count": 120,
      "outputs": [
        {
          "output_type": "stream",
          "name": "stdout",
          "text": [
            "1/1 [==============================] - 0s 14ms/step\n",
            "Day la so: 2\n"
          ]
        },
        {
          "output_type": "display_data",
          "data": {
            "text/plain": [
              "<Figure size 432x288 with 1 Axes>"
            ],
            "image/png": "[encoded data removed]"
          },
          "metadata": {
            "needs_background": "light"
          }
        }
      ]
    },
    {
      "cell_type": "code",
      "source": [],
      "metadata": {
        "id": "mRtMLe10a-K4"
      },
      "execution_count": null,
      "outputs": []
    }
  ]
}