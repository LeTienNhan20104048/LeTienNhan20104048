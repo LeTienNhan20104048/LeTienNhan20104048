{
  "nbformat": 4,
  "nbformat_minor": 0,
  "metadata": {
    "colab": {
      "provenance": [],
      "authorship_tag": "ABX9TyOjxyfXkwRzoRwqXX+srH8f",
      "include_colab_link": true
    },
    "kernelspec": {
      "name": "python3",
      "display_name": "Python 3"
    },
    "language_info": {
      "name": "python"
    }
  },
  "cells": [
    {
      "cell_type": "markdown",
      "metadata": {
        "id": "view-in-github",
        "colab_type": "text"
      },
      "source": [
        "<a href=\"https://colab.research.google.com/github/LeTienNhan20104048/LeTienNhan20104048/blob/main/Tuan_5.ipynb\" target=\"_parent\"><img src=\"https://colab.research.google.com/assets/colab-badge.svg\" alt=\"Open In Colab\"/></a>"
      ]
    },
    {
      "cell_type": "code",
      "execution_count": 3,
      "metadata": {
        "colab": {
          "base_uri": "https://localhost:8080/"
        },
        "id": "9Hc8FGSvy6_i",
        "outputId": "4e64bf24-4e8e-4377-96af-437ac8fc59f2"
      },
      "outputs": [
        {
          "output_type": "stream",
          "name": "stdout",
          "text": [
            "Do chinh xac 1.0\n",
            "[0 1 0 1]\n"
          ]
        }
      ],
      "source": [
        "import numpy as np\n",
        "from sklearn.linear_model import Perceptron\n",
        "x=[0,0],[1,0],[0,1],[1,1]\n",
        "y=[0,1,1,1]\n",
        "model=Perceptron()\n",
        "model.fit(x,y)\n",
        "print('Do chinh xac', model.score(x,y))\n",
        "x_test=[[0.5,0],[0.9,-0.2],[1,-0.5],[0.2,0.7]]\n",
        "y_test=model.predict(x_test)\n",
        "print(y_test)"
      ]
    },
    {
      "cell_type": "code",
      "source": [
        "import numpy as np\n",
        "import pandas as pd\n",
        "from sklearn.linear_model import Perceptron\n",
        "from sklearn.model_selection import train_test_split\n",
        "url='/crabs.xlsx'\n",
        "data=pd.read_csv(url)\n",
        "x=\n",
        "y=\n",
        "x_train,x_test,y_train,y_test=train_test_split(x,y,test_size=0.3)"
      ],
      "metadata": {
        "id": "Qneid9F91lSL"
      },
      "execution_count": null,
      "outputs": []
    },
    {
      "cell_type": "code",
      "source": [
        "import numpy as np\n",
        "import pandas as pd\n",
        "from sklearn.linear_model import Perceptron\n",
        "from sklearn.model_selection import train_test_split\n",
        "data=pd.read_csv('/crabs.csv')\n",
        "data['sex'].replace('M,1')\n",
        "data['sex'].replace('F,0')\n",
        "x=data.drop(['speies','sex'],axis=True)\n",
        "y=data['sex']\n",
        "model=Perceptron()\n",
        "model.fit(x,y)\n",
        "print('do chinh xac',model.score(x,y))\n",
        "x_test=[[2,5,7,4,10,9],[2.5,6.8,3,8.4,9.3,4.7]]\n",
        "y_test=model.predict(x_test)\n",
        "print(y_test)"
      ],
      "metadata": {
        "colab": {
          "base_uri": "https://localhost:8080/"
        },
        "id": "t-45SUOqCBvl",
        "outputId": "26af80b7-303b-4340-ff2d-7d5a13b0ea2a"
      },
      "execution_count": 17,
      "outputs": [
        {
          "output_type": "stream",
          "name": "stdout",
          "text": [
            "do chinh xac 0.505\n",
            "['F' 'F']\n"
          ]
        },
        {
          "output_type": "stream",
          "name": "stderr",
          "text": [
            "/usr/local/lib/python3.7/dist-packages/sklearn/base.py:451: UserWarning: X does not have valid feature names, but Perceptron was fitted with feature names\n",
            "  \"X does not have valid feature names, but\"\n"
          ]
        }
      ]
    },
    {
      "cell_type": "code",
      "source": [
        "import numpy as np\n",
        "from sklearn.linear_model import Perceptron\n",
        "from sklearn.model_selection import train_test_split\n",
        "import pandas as pd\n",
        "url= '/crabs.csv'\n",
        "data= pd.read_csv('/crabs.csv')\n",
        "x = data.drop(['speies','sex','index'],axis = True)\n",
        "y = data['sex'].replace(['M','F'],[0,1])\n",
        "x_train, x_test, y_train, y_test = train_test_split(x,y,test_size = 0.5)\n",
        "model = Perceptron()\n",
        "model.fit(x_train,y_train)\n",
        "print('do chinh xac',model.score(x,y))\n",
        "x_test = [[7,38,24,8,3],[5,14,43,23,75]]\n",
        "y_test = model.predict(x_test)\n",
        "print(y_test)"
      ],
      "metadata": {
        "colab": {
          "base_uri": "https://localhost:8080/"
        },
        "id": "mDOgPoqDRBfs",
        "outputId": "f6c5c976-2027-43b6-c6a8-ffcfee50e47d"
      },
      "execution_count": 20,
      "outputs": [
        {
          "output_type": "stream",
          "name": "stdout",
          "text": [
            "do chinh xac 0.5\n",
            "[1 0]\n"
          ]
        },
        {
          "output_type": "stream",
          "name": "stderr",
          "text": [
            "/usr/local/lib/python3.7/dist-packages/sklearn/base.py:451: UserWarning: X does not have valid feature names, but Perceptron was fitted with feature names\n",
            "  \"X does not have valid feature names, but\"\n"
          ]
        }
      ]
    },
    {
      "cell_type": "code",
      "source": [
        "import pandas as pd\n",
        "import numpy as np\n",
        "from sklearn.linear_model import Perceptron\n",
        "from sklearn.model_selection import train_test_split\n",
        "from sklearn.datasets import load_iris\n",
        "iris = load_iris()\n",
        "#print (iris)\n",
        "for n, i in enumerate(iris.target):\n",
        "  if i == 2:\n",
        "    iris.target[n] = 1\n",
        "x = iris.data\n",
        "y = iris.target\n",
        "x_train, x_test, y_train, y_test = train_test_split(x,y,test_size = 0.5)\n",
        "model = Perceptron()\n",
        "model.fit(x_train,y_train)\n",
        "print('Độ chính xác',model.score(x_test,y_test))\n",
        "x_test = [[4,3,2,0.5],[5,7,3,0.6]]\n",
        "y_test = model.predict(x_test)\n",
        "print(y_test)\n"
      ],
      "metadata": {
        "colab": {
          "base_uri": "https://localhost:8080/"
        },
        "id": "Vy7x52zaIbUs",
        "outputId": "ad0b737f-8a69-45d9-bf67-3669c28e3242"
      },
      "execution_count": 24,
      "outputs": [
        {
          "output_type": "stream",
          "name": "stdout",
          "text": [
            "Độ chính xác 1.0\n",
            "[0 0]\n"
          ]
        }
      ]
    }
  ]
}